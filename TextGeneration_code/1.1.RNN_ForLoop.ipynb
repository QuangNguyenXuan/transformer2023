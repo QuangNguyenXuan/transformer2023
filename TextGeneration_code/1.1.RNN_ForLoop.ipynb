{
 "cells": [
  {
   "cell_type": "markdown",
   "id": "8d3830a3-4364-4076-99c0-56f11c5409cf",
   "metadata": {},
   "source": [
    "## RNN"
   ]
  },
  {
   "cell_type": "code",
   "execution_count": 1,
   "id": "2fd331d6-81d4-4ba5-8225-9fd4a1ef93a4",
   "metadata": {},
   "outputs": [],
   "source": [
    "import torch\n",
    "import torch.nn as nn\n",
    "\n",
    "embedding_dim, hidden_dim = 3, 4\n",
    "rnn = nn.RNN(embedding_dim, \n",
    "             hidden_dim,\n",
    "             batch_first=True)"
   ]
  },
  {
   "cell_type": "code",
   "execution_count": 3,
   "id": "9e4fd075-f3e5-4488-b4ca-b4999c341539",
   "metadata": {},
   "outputs": [
    {
     "name": "stdout",
     "output_type": "stream",
     "text": [
      "tensor([[[ 0.5336,  0.7105, -0.0345,  0.2959],\n",
      "         [ 0.4654,  0.7062, -0.1752,  0.5754]]], grad_fn=<TransposeBackward1>)\n"
     ]
    }
   ],
   "source": [
    "input_sample = torch.Tensor([[[-0.88,  0.81,  0.77],\n",
    "                              [-1.27,  0.84,  0.04]]])\n",
    "\n",
    "outputs, hidden = rnn(input_sample)\n",
    "print(outputs)"
   ]
  },
  {
   "cell_type": "markdown",
   "id": "32aaefd4-d880-45d6-a1b8-d4cc964e75f4",
   "metadata": {},
   "source": [
    "## Using For Loop"
   ]
  },
  {
   "cell_type": "code",
   "execution_count": 4,
   "id": "c668509f-d726-48df-a20b-30576a6fdf1a",
   "metadata": {},
   "outputs": [
    {
     "name": "stdout",
     "output_type": "stream",
     "text": [
      "tensor([[[ 0.5336,  0.7105, -0.0345,  0.2959]]], grad_fn=<TransposeBackward1>)\n"
     ]
    }
   ],
   "source": [
    "# for the first word\n",
    "first_word = torch.Tensor([[[-0.88,  0.81,  0.77]]])\n",
    "\n",
    "outputs, hidden = rnn(first_word)\n",
    "print(outputs)"
   ]
  },
  {
   "cell_type": "code",
   "execution_count": 5,
   "id": "964c91c7-1e0e-4aa2-91d4-0f2e41ba0e49",
   "metadata": {},
   "outputs": [
    {
     "name": "stdout",
     "output_type": "stream",
     "text": [
      "tensor([[[ 0.4654,  0.7062, -0.1752,  0.5754]]], grad_fn=<TransposeBackward1>)\n"
     ]
    }
   ],
   "source": [
    "# for the second word\n",
    "second_word = torch.Tensor([[[-1.27,  0.84,  0.04]]])\n",
    "\n",
    "outputs, hidden = rnn(second_word, hidden)\n",
    "print(outputs)"
   ]
  },
  {
   "cell_type": "code",
   "execution_count": null,
   "id": "62d3b7a2-9f94-4ef5-a64a-8a4afef89bdc",
   "metadata": {},
   "outputs": [],
   "source": []
  }
 ],
 "metadata": {
  "kernelspec": {
   "display_name": "Python 3 (ipykernel)",
   "language": "python",
   "name": "python3"
  },
  "language_info": {
   "codemirror_mode": {
    "name": "ipython",
    "version": 3
   },
   "file_extension": ".py",
   "mimetype": "text/x-python",
   "name": "python",
   "nbconvert_exporter": "python",
   "pygments_lexer": "ipython3",
   "version": "3.9.18"
  }
 },
 "nbformat": 4,
 "nbformat_minor": 5
}
