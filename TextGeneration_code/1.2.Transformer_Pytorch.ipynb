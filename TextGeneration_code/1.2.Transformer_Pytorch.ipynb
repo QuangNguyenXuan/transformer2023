{
 "cells": [
  {
   "cell_type": "code",
   "execution_count": 1,
   "id": "13372648-7803-4adb-afc6-8dd60baf8d54",
   "metadata": {},
   "outputs": [
    {
     "name": "stdout",
     "output_type": "stream",
     "text": [
      "tensor([[[ 0.9789,  0.3944, -1.3734],\n",
      "         [ 0.2169,  1.1018, -1.3187]]], grad_fn=<NativeLayerNormBackward0>)\n"
     ]
    }
   ],
   "source": [
    "import torch.nn as nn\n",
    "import torch\n",
    "\n",
    "# Initialize the TransformerEncoderLayer\n",
    "encoder_layer = nn.TransformerEncoderLayer(d_model=3, \n",
    "                                           nhead=1, \n",
    "                                           batch_first=True, \n",
    "                                           dim_feedforward=4,\n",
    "                                           dropout=0.0, \n",
    "                                           bias=False)\n",
    "# run for a sample\n",
    "src = torch.Tensor([[[ 0.69,  0.72, -1.41],\n",
    "                     [ 0.21,  1.10, -1.31]]])\n",
    "out = encoder_layer(src)\n",
    "print(out)"
   ]
  },
  {
   "cell_type": "code",
   "execution_count": null,
   "id": "5c32168f-7f56-446f-975e-cf18da3e0092",
   "metadata": {},
   "outputs": [],
   "source": []
  },
  {
   "cell_type": "code",
   "execution_count": 2,
   "id": "6580aac3-8108-4389-b857-9fcf58bc50fc",
   "metadata": {},
   "outputs": [
    {
     "name": "stdout",
     "output_type": "stream",
     "text": [
      "tensor([[[ 0.9789,  0.3944, -1.3734],\n",
      "         [ 0.2169,  1.1018, -1.3187]]], grad_fn=<NativeLayerNormBackward0>)\n"
     ]
    }
   ],
   "source": [
    "# check\n",
    "\n",
    "x = encoder_layer.self_attn(src, src, src)[0]\n",
    "x = src + x\n",
    "x1 = encoder_layer.norm1(x)\n",
    "x = encoder_layer.linear2( torch.nn.ReLU()(encoder_layer.linear1(x1)) )\n",
    "x = x + x1\n",
    "x = encoder_layer.norm2(x)\n",
    "print(x)"
   ]
  },
  {
   "cell_type": "code",
   "execution_count": null,
   "id": "ad1731fa-00aa-4189-b14f-dac223c4f882",
   "metadata": {},
   "outputs": [],
   "source": []
  },
  {
   "cell_type": "markdown",
   "id": "31df6e7f-4369-4610-a858-12f626a12c25",
   "metadata": {},
   "source": [
    "## Masked Encoder"
   ]
  },
  {
   "cell_type": "code",
   "execution_count": 3,
   "id": "82aea024-a60a-4f64-a5b6-b00f344755d7",
   "metadata": {},
   "outputs": [],
   "source": [
    "import torch.nn as nn\n",
    "import torch\n",
    "\n",
    "# Initialize the TransformerEncoderLayer\n",
    "encoder_layer = nn.TransformerEncoderLayer(d_model=3, \n",
    "                                           nhead=1, \n",
    "                                           batch_first=True, \n",
    "                                           dim_feedforward=4,\n",
    "                                           dropout=0.0, \n",
    "                                           bias=False)\n",
    "mask = torch.triu(torch.ones(3, 3), diagonal=1).bool() "
   ]
  },
  {
   "cell_type": "code",
   "execution_count": 4,
   "id": "09f777ed-281a-4daf-875c-4a6a7bbad1e5",
   "metadata": {},
   "outputs": [
    {
     "name": "stdout",
     "output_type": "stream",
     "text": [
      "tensor([[[-0.3729,  1.3678, -0.9950],\n",
      "         [-0.6216,  1.4109, -0.7893],\n",
      "         [-1.3178,  1.1033,  0.2145]]], grad_fn=<NativeLayerNormBackward0>)\n"
     ]
    }
   ],
   "source": [
    "# run for a sample\n",
    "src = torch.Tensor([[[ 0.69,  0.72, -1.41],\n",
    "                     [ 0.21,  1.10, -1.31],\n",
    "                     [-0.88,  0.60, -0.31]]])\n",
    "out = encoder_layer(src, src_mask=mask)\n",
    "print(out)"
   ]
  },
  {
   "cell_type": "code",
   "execution_count": null,
   "id": "1b241b5b-5eca-4942-b7dd-297d4038a37c",
   "metadata": {},
   "outputs": [],
   "source": []
  },
  {
   "cell_type": "code",
   "execution_count": 5,
   "id": "bcd9db0f-9d51-4d19-a1cd-38f3f631b1c8",
   "metadata": {},
   "outputs": [
    {
     "name": "stdout",
     "output_type": "stream",
     "text": [
      "tensor([[[-0.3729,  1.3678, -0.9950],\n",
      "         [-0.6216,  1.4109, -0.7893],\n",
      "         [-1.3178,  1.1033,  0.2145]]], grad_fn=<NativeLayerNormBackward0>)\n"
     ]
    }
   ],
   "source": [
    "# check\n",
    "\n",
    "x = encoder_layer.self_attn(src, src, src, attn_mask=mask)[0]\n",
    "x = src + x\n",
    "x1 = encoder_layer.norm1(x)\n",
    "x = encoder_layer.linear2( torch.nn.ReLU()(encoder_layer.linear1(x1)) )\n",
    "x = x + x1\n",
    "x = encoder_layer.norm2(x)\n",
    "print(x)"
   ]
  },
  {
   "cell_type": "code",
   "execution_count": null,
   "id": "e5252332-1d55-4ec7-968e-943248880ccd",
   "metadata": {},
   "outputs": [],
   "source": []
  },
  {
   "cell_type": "markdown",
   "id": "659ffa92-5a44-42cd-b0ac-19509fdff031",
   "metadata": {},
   "source": [
    "## Transformer"
   ]
  },
  {
   "cell_type": "code",
   "execution_count": 6,
   "id": "ce96c1b8-bdf4-4d9d-914f-76263a72854b",
   "metadata": {},
   "outputs": [
    {
     "name": "stdout",
     "output_type": "stream",
     "text": [
      "tensor([[[ 0.0565, -1.2520,  1.1955],\n",
      "         [-0.0252, -1.2120,  1.2371]]], grad_fn=<NativeLayerNormBackward0>)\n"
     ]
    }
   ],
   "source": [
    "import torch.nn as nn\n",
    "import torch\n",
    "\n",
    "# Encoder\n",
    "encoder_layer = nn.TransformerEncoderLayer(d_model=3, \n",
    "                                           nhead=1, \n",
    "                                           batch_first=True,\n",
    "                                           dim_feedforward=4,\n",
    "                                           dropout=0.0, \n",
    "                                           bias=False)\n",
    "\n",
    "# test\n",
    "src = torch.Tensor([[[0.48, 0.44, 0.71],\n",
    "                     [0.65, 0.80, 0.79]]])\n",
    "context = encoder_layer(src)\n",
    "print(context)"
   ]
  },
  {
   "cell_type": "code",
   "execution_count": null,
   "id": "b537a490-16e3-49ed-8f13-f83c73b2ba7f",
   "metadata": {},
   "outputs": [],
   "source": []
  },
  {
   "cell_type": "code",
   "execution_count": 7,
   "id": "3817e807-c4c4-495f-8429-8de3513de5de",
   "metadata": {},
   "outputs": [
    {
     "name": "stdout",
     "output_type": "stream",
     "text": [
      "tensor([[[-0.9688,  1.3766, -0.4079],\n",
      "         [-0.0033, -1.2231,  1.2264],\n",
      "         [-1.3552,  0.3274,  1.0278],\n",
      "         [ 1.1957,  0.0562, -1.2519]]], grad_fn=<NativeLayerNormBackward0>)\n"
     ]
    }
   ],
   "source": [
    "decoder_layer = nn.TransformerDecoderLayer(d_model=3, \n",
    "                                           nhead=1, \n",
    "                                           batch_first=True,\n",
    "                                           dim_feedforward=4,\n",
    "                                           dropout=0.0, \n",
    "                                           bias=False)\n",
    "\n",
    "# test\n",
    "target = torch.Tensor( [[[0.3516, 0.9509, 0.2771],\n",
    "                         [0.1993, 0.0177, 0.2628],\n",
    "                         [0.0774, 0.5253, 0.6413],\n",
    "                         [0.6749, 0.5501, 0.1641]]])\n",
    "out = decoder_layer(target, context)\n",
    "print(out)"
   ]
  },
  {
   "cell_type": "code",
   "execution_count": null,
   "id": "eacc0ac1-ce5b-4d08-9b7e-b84bde52eda6",
   "metadata": {},
   "outputs": [],
   "source": []
  },
  {
   "cell_type": "markdown",
   "id": "31f8c045-5cc6-4ae6-aa8f-59efce5fd74b",
   "metadata": {},
   "source": [
    "## Masked Transformer"
   ]
  },
  {
   "cell_type": "code",
   "execution_count": 9,
   "id": "89447bdc-2da4-40dc-b20e-7d4884330f5f",
   "metadata": {},
   "outputs": [
    {
     "name": "stdout",
     "output_type": "stream",
     "text": [
      "tensor([[[-1.3823,  0.9500,  0.4323],\n",
      "         [-0.9651, -0.4127,  1.3778],\n",
      "         [-1.2738,  0.1048,  1.1690],\n",
      "         [-0.0791,  1.2624, -1.1833]]], grad_fn=<NativeLayerNormBackward0>)\n"
     ]
    }
   ],
   "source": [
    "# Encoder\n",
    "encoder_layer = nn.TransformerEncoderLayer(d_model=3, \n",
    "                                           nhead=1, \n",
    "                                           batch_first=True,\n",
    "                                           dim_feedforward=4,\n",
    "                                           dropout=0.0, \n",
    "                                           bias=False)\n",
    "\n",
    "decoder_layer = nn.TransformerDecoderLayer(d_model=3, \n",
    "                                           nhead=1, \n",
    "                                           batch_first=True,\n",
    "                                           dim_feedforward=4,\n",
    "                                           dropout=0.0, \n",
    "                                           bias=False)\n",
    "\n",
    "\n",
    "# test\n",
    "src = torch.Tensor([[[0.48, 0.44, 0.71],\n",
    "                     [0.65, 0.80, 0.79]]])\n",
    "\n",
    "tgt = torch.Tensor([[[0.3516, 0.9509, 0.2771],\n",
    "                     [0.1993, 0.0177, 0.2628],\n",
    "                     [0.0774, 0.5253, 0.6413],\n",
    "                     [0.6749, 0.5501, 0.1641]]])\n",
    "\n",
    "context = encoder_layer(src)\n",
    "mask = torch.triu(torch.ones(4, 4), diagonal=1).bool()  \n",
    "out = decoder_layer(tgt, context, tgt_mask=mask)\n",
    "print(out)"
   ]
  },
  {
   "cell_type": "code",
   "execution_count": null,
   "id": "91ef397f-4b4c-4a68-a32d-4537f2e14507",
   "metadata": {},
   "outputs": [],
   "source": []
  },
  {
   "cell_type": "code",
   "execution_count": 10,
   "id": "a6b27344-92fa-4c19-9fcf-d88e72a017b5",
   "metadata": {},
   "outputs": [
    {
     "name": "stdout",
     "output_type": "stream",
     "text": [
      "tensor([[[-1.3823,  0.9500,  0.4323],\n",
      "         [-0.9651, -0.4127,  1.3778],\n",
      "         [-1.2738,  0.1048,  1.1690],\n",
      "         [-0.0791,  1.2624, -1.1833]]], grad_fn=<NativeLayerNormBackward0>)\n"
     ]
    }
   ],
   "source": [
    "# encoder_layer\n",
    "x = encoder_layer.self_attn(src, src, src)[0]\n",
    "x = src + x\n",
    "x1 = encoder_layer.norm1(x)\n",
    "x = encoder_layer.linear2( torch.nn.ReLU()(encoder_layer.linear1(x1)) )\n",
    "x = x + x1\n",
    "context = encoder_layer.norm2(x)\n",
    "\n",
    "# decoder_layer\n",
    "mask = torch.triu(torch.ones(4, 4), diagonal=1).bool() \n",
    "x = decoder_layer.self_attn(target, target, target, attn_mask=mask)[0]\n",
    "x = target + x\n",
    "x1 = decoder_layer.norm1(x)\n",
    "x = decoder_layer.multihead_attn(x1, context, context)[0]\n",
    "x2 = decoder_layer.norm2(x + x1)\n",
    "x = decoder_layer.linear2( torch.nn.ReLU()(decoder_layer.linear1(x2)) )\n",
    "x = decoder_layer.norm3(x + x2)\n",
    "print(x)"
   ]
  },
  {
   "cell_type": "code",
   "execution_count": null,
   "id": "5743427e-91e7-4f09-a801-39b45582049a",
   "metadata": {},
   "outputs": [],
   "source": []
  }
 ],
 "metadata": {
  "kernelspec": {
   "display_name": "Python 3 (ipykernel)",
   "language": "python",
   "name": "python3"
  },
  "language_info": {
   "codemirror_mode": {
    "name": "ipython",
    "version": 3
   },
   "file_extension": ".py",
   "mimetype": "text/x-python",
   "name": "python",
   "nbconvert_exporter": "python",
   "pygments_lexer": "ipython3",
   "version": "3.9.18"
  }
 },
 "nbformat": 4,
 "nbformat_minor": 5
}
