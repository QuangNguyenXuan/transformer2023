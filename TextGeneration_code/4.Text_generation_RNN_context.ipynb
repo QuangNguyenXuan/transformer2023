{
 "cells": [
  {
   "cell_type": "markdown",
   "id": "7efe5b00-cda0-4c3f-9cbc-6fd590ebb4a6",
   "metadata": {},
   "source": [
    "## Data"
   ]
  },
  {
   "cell_type": "code",
   "execution_count": 1,
   "id": "22382432-34a8-474b-9519-af1168597ea1",
   "metadata": {},
   "outputs": [],
   "source": [
    "import torch\n",
    "import torch.nn as nn\n",
    "from torchtext.data.utils import get_tokenizer\n",
    "from torchtext.vocab import build_vocab_from_iterator\n",
    "\n",
    "corpus = [\n",
    "    \"ăn quả nhớ kẻ trồng cây\",\n",
    "    \"có chí thì nên\"    \n",
    "]\n",
    "data_size = len(corpus)\n",
    "\n",
    "# Define the max vocabulary size and sequence length\n",
    "vocab_size = 14\n",
    "sequence_length = 6"
   ]
  },
  {
   "cell_type": "code",
   "execution_count": 2,
   "id": "472595ab-3ce7-4b94-85a7-26ad47310545",
   "metadata": {},
   "outputs": [
    {
     "data": {
      "text/plain": [
       "{'<unk>': 0,\n",
       " 'cây': 5,\n",
       " 'kẻ': 7,\n",
       " 'thì': 11,\n",
       " 'chí': 4,\n",
       " '<pad>': 1,\n",
       " '<sos_topic1>': 2,\n",
       " '<sos_topic2>': 3,\n",
       " 'có': 6,\n",
       " 'nhớ': 8,\n",
       " 'nên': 9,\n",
       " 'quả': 10,\n",
       " 'trồng': 12,\n",
       " 'ăn': 13}"
      ]
     },
     "execution_count": 2,
     "metadata": {},
     "output_type": "execute_result"
    }
   ],
   "source": [
    "# Define tokenizer function\n",
    "tokenizer = get_tokenizer('basic_english')\n",
    "\n",
    "# Create a function to yield list of tokens\n",
    "def yield_tokens(examples):\n",
    "    for text in examples:\n",
    "        yield tokenizer(text)\n",
    "\n",
    "# Create vocabulary\n",
    "vocab = build_vocab_from_iterator(yield_tokens(corpus),\n",
    "                                  max_tokens=vocab_size,\n",
    "                                  specials=[\"<unk>\", \"<pad>\", \"<sos_topic1>\", \"<sos_topic2>\"]\n",
    "                                 )\n",
    "vocab.set_default_index(vocab[\"<unk>\"])\n",
    "vocab.get_stoi()"
   ]
  },
  {
   "cell_type": "code",
   "execution_count": null,
   "id": "6690f201-f4fb-4685-ae0c-7633b7e8a765",
   "metadata": {},
   "outputs": [],
   "source": []
  },
  {
   "cell_type": "code",
   "execution_count": 3,
   "id": "4364504a-e300-4e9f-9565-ff4f9ad2f45a",
   "metadata": {},
   "outputs": [
    {
     "name": "stdout",
     "output_type": "stream",
     "text": [
      "[['<sos_topic1>'], ['<sos_topic1>', 'ăn'], ['<sos_topic1>', 'ăn', 'quả'], ['<sos_topic1>', 'ăn', 'quả', 'nhớ'], ['<sos_topic1>', 'ăn', 'quả', 'nhớ', 'kẻ'], ['<sos_topic1>', 'ăn', 'quả', 'nhớ', 'kẻ', 'trồng'], ['<sos_topic2>'], ['<sos_topic2>', 'có'], ['<sos_topic2>', 'có', 'chí'], ['<sos_topic2>', 'có', 'chí', 'thì']]\n",
      "['ăn', 'quả', 'nhớ', 'kẻ', 'trồng', 'cây', 'có', 'chí', 'thì', 'nên']\n"
     ]
    }
   ],
   "source": [
    "corpus[0] = '<sos_topic1> ' + corpus[0]\n",
    "corpus[1] = '<sos_topic2> ' + corpus[1]\n",
    "\n",
    "data_x = []\n",
    "data_y = []\n",
    "for vector in corpus:\n",
    "    vector = vector.split()    \n",
    "\n",
    "    for i in range(1, len(vector)):\n",
    "        data_x.append(vector[:i])\n",
    "        data_y.append(vector[i])\n",
    "\n",
    "print(data_x)\n",
    "print(data_y)"
   ]
  },
  {
   "cell_type": "code",
   "execution_count": null,
   "id": "2726650a-52ef-4150-9b09-0071d0ce2a31",
   "metadata": {},
   "outputs": [],
   "source": []
  },
  {
   "cell_type": "code",
   "execution_count": 4,
   "id": "548484cb-e415-4e4f-a7f5-b0fd0ed48e59",
   "metadata": {},
   "outputs": [
    {
     "name": "stdout",
     "output_type": "stream",
     "text": [
      "['<sos_topic1>']\n",
      "['<sos_topic1>', 'ăn']\n",
      "['<sos_topic1>', 'ăn', 'quả']\n",
      "['<sos_topic1>', 'ăn', 'quả', 'nhớ']\n",
      "['<sos_topic1>', 'ăn', 'quả', 'nhớ', 'kẻ']\n",
      "['<sos_topic1>', 'ăn', 'quả', 'nhớ', 'kẻ', 'trồng']\n",
      "['<sos_topic2>']\n",
      "['<sos_topic2>', 'có']\n",
      "['<sos_topic2>', 'có', 'chí']\n",
      "['<sos_topic2>', 'có', 'chí', 'thì']\n"
     ]
    }
   ],
   "source": [
    "# Tokenize and numericalize your samples\n",
    "def vectorize(x, y, vocab, sequence_length):\n",
    "    print(x)\n",
    "    x_ids = [vocab[token] for token in x][:sequence_length]\n",
    "    x_ids = x_ids + [vocab[\"<pad>\"]] * (sequence_length - len(x))\n",
    "    \n",
    "    return x_ids, vocab[y]\n",
    "\n",
    "# Vectorize the samples\n",
    "data_x_ids = []\n",
    "data_y_ids = []\n",
    "for x, y in zip(data_x, data_y):\n",
    "    x_ids, y_ids = vectorize(x, y, vocab, sequence_length)\n",
    "    data_x_ids.append(x_ids)\n",
    "    data_y_ids.append(y_ids)"
   ]
  },
  {
   "cell_type": "code",
   "execution_count": null,
   "id": "c610df2e-db78-4110-b8e5-2df61ffbff24",
   "metadata": {},
   "outputs": [],
   "source": []
  },
  {
   "cell_type": "code",
   "execution_count": 5,
   "id": "1074c9d5-69cc-460b-96db-73818bb3755c",
   "metadata": {},
   "outputs": [
    {
     "name": "stdout",
     "output_type": "stream",
     "text": [
      "[2, 1, 1, 1, 1, 1]\n",
      "13\n",
      "\n",
      "[2, 13, 1, 1, 1, 1]\n",
      "10\n",
      "\n",
      "[2, 13, 10, 1, 1, 1]\n",
      "8\n",
      "\n",
      "[2, 13, 10, 8, 1, 1]\n",
      "7\n",
      "\n",
      "[2, 13, 10, 8, 7, 1]\n",
      "12\n",
      "\n",
      "[2, 13, 10, 8, 7, 12]\n",
      "5\n",
      "\n",
      "[3, 1, 1, 1, 1, 1]\n",
      "6\n",
      "\n",
      "[3, 6, 1, 1, 1, 1]\n",
      "4\n",
      "\n",
      "[3, 6, 4, 1, 1, 1]\n",
      "11\n",
      "\n",
      "[3, 6, 4, 11, 1, 1]\n",
      "9\n",
      "\n"
     ]
    }
   ],
   "source": [
    "for x, y in zip(data_x_ids, data_y_ids):\n",
    "    print(x)\n",
    "    print(y)\n",
    "    print()"
   ]
  },
  {
   "cell_type": "code",
   "execution_count": 6,
   "id": "3192fcd6-d411-4312-afcd-88fe4e64a8b9",
   "metadata": {},
   "outputs": [
    {
     "name": "stdout",
     "output_type": "stream",
     "text": [
      "torch.Size([10, 6])\n"
     ]
    }
   ],
   "source": [
    "data_x_ids = torch.tensor(data_x_ids, dtype=torch.long)\n",
    "print(data_x_ids.shape)"
   ]
  },
  {
   "cell_type": "code",
   "execution_count": 7,
   "id": "0c1473cd-5773-401d-820c-42fcdf0eba45",
   "metadata": {},
   "outputs": [
    {
     "name": "stdout",
     "output_type": "stream",
     "text": [
      "torch.Size([10])\n"
     ]
    }
   ],
   "source": [
    "data_y_ids = torch.tensor(data_y_ids, dtype=torch.long)\n",
    "print(data_y_ids.shape)"
   ]
  },
  {
   "cell_type": "code",
   "execution_count": null,
   "id": "b29745f5-7ed8-49aa-b44d-c22aba3d41ce",
   "metadata": {},
   "outputs": [],
   "source": []
  },
  {
   "cell_type": "markdown",
   "id": "b547154b-2223-4e4f-a875-119ec33f9812",
   "metadata": {},
   "source": [
    "## Train with full data"
   ]
  },
  {
   "cell_type": "code",
   "execution_count": 8,
   "id": "bb26d7d5-81e3-4cf3-90ff-99b3bfa5524d",
   "metadata": {},
   "outputs": [
    {
     "name": "stdout",
     "output_type": "stream",
     "text": [
      "TG_Model(\n",
      "  (embedding): Embedding(14, 4)\n",
      "  (recurrent): RNN(4, 4, batch_first=True)\n",
      "  (linear): Linear(in_features=24, out_features=14, bias=True)\n",
      ")\n"
     ]
    }
   ],
   "source": [
    "class TG_Model(nn.Module):\n",
    "    def __init__(self, vocab_size, sequence_length):\n",
    "        super().__init__()\n",
    "        self.embedding = nn.Embedding(vocab_size, 4)\n",
    "        self.recurrent = nn.RNN(4, 4, batch_first=True)\n",
    "        self.linear = nn.Linear(sequence_length*4, vocab_size)\n",
    "\n",
    "    def forward(self, x):\n",
    "        x = self.embedding(x)\n",
    "        x,_ = self.recurrent(x)\n",
    "        x = nn.Flatten()(x)\n",
    "        x = self.linear(x)\n",
    "        return x\n",
    "\n",
    "model = TG_Model(vocab_size, sequence_length)\n",
    "print(model)"
   ]
  },
  {
   "cell_type": "code",
   "execution_count": 9,
   "id": "32ed2deb-b3e3-4a70-8b85-c575001fc213",
   "metadata": {},
   "outputs": [],
   "source": [
    "criterion = nn.CrossEntropyLoss()\n",
    "optimizer = torch.optim.Adam(model.parameters(), lr=0.05)"
   ]
  },
  {
   "cell_type": "code",
   "execution_count": null,
   "id": "910680f9-acb5-493e-a194-a3f18f4788f0",
   "metadata": {},
   "outputs": [],
   "source": []
  },
  {
   "cell_type": "code",
   "execution_count": 10,
   "id": "cbee29f3-5988-4f5f-a9f1-fb13f137a91d",
   "metadata": {},
   "outputs": [
    {
     "name": "stdout",
     "output_type": "stream",
     "text": [
      "2.8929567337036133\n",
      "2.391228199005127\n",
      "1.9780728816986084\n",
      "1.6139867305755615\n",
      "1.275233507156372\n",
      "1.0369093418121338\n",
      "0.8680337071418762\n",
      "0.7290904521942139\n",
      "0.6078771352767944\n",
      "0.5023180842399597\n",
      "0.41155776381492615\n",
      "0.3321951925754547\n",
      "0.263028085231781\n",
      "0.2066657990217209\n",
      "0.16402289271354675\n",
      "0.13232974708080292\n",
      "0.10795924812555313\n",
      "0.08847444504499435\n",
      "0.072664275765419\n",
      "0.05991523712873459\n",
      "0.049761101603507996\n",
      "0.04174325242638588\n",
      "0.035425812005996704\n",
      "0.030428964644670486\n",
      "0.026432689279317856\n",
      "0.023166561499238014\n",
      "0.02041582018136978\n",
      "0.018037933856248856\n",
      "0.01596108451485634\n",
      "0.01415717788040638\n",
      "0.01261023711413145\n",
      "0.011299170553684235\n",
      "0.010195476934313774\n",
      "0.009267406538128853\n",
      "0.00848465971648693\n"
     ]
    }
   ],
   "source": [
    "# train\n",
    "for _ in range(35):\n",
    "    optimizer.zero_grad()\n",
    "    outputs = model(data_x_ids)\n",
    "    loss = criterion(outputs, data_y_ids)\n",
    "    print(loss.item())\n",
    "    loss.backward()\n",
    "    optimizer.step()"
   ]
  },
  {
   "cell_type": "code",
   "execution_count": 11,
   "id": "b562b790-b1f8-4e0c-a1cc-2453ee3f3a1a",
   "metadata": {},
   "outputs": [
    {
     "name": "stdout",
     "output_type": "stream",
     "text": [
      "tensor([13, 10,  8,  7, 12,  5,  6,  4, 11,  9])\n"
     ]
    }
   ],
   "source": [
    "outputs = model(data_x_ids)\n",
    "#print(outputs)\n",
    "print(torch.argmax(outputs, axis=-1))"
   ]
  },
  {
   "cell_type": "code",
   "execution_count": 12,
   "id": "7cd76225-a340-42ea-8352-81cdf3c56e99",
   "metadata": {},
   "outputs": [
    {
     "data": {
      "text/plain": [
       "tensor([13, 10,  8,  7, 12,  5,  6,  4, 11,  9])"
      ]
     },
     "execution_count": 12,
     "metadata": {},
     "output_type": "execute_result"
    }
   ],
   "source": [
    "data_y_ids"
   ]
  },
  {
   "cell_type": "code",
   "execution_count": null,
   "id": "5f519bd6-a4f9-4037-bea8-bf7118e684f7",
   "metadata": {},
   "outputs": [],
   "source": []
  },
  {
   "cell_type": "markdown",
   "id": "097fb34a-238b-43eb-9e7d-4ad075f26e19",
   "metadata": {},
   "source": [
    "## Inference"
   ]
  },
  {
   "cell_type": "code",
   "execution_count": 13,
   "id": "fb181ca5-486f-4ea6-b0f6-076afdc02200",
   "metadata": {},
   "outputs": [
    {
     "name": "stdout",
     "output_type": "stream",
     "text": [
      "[3, 1, 1, 1, 1, 1]\n"
     ]
    }
   ],
   "source": [
    "promt = '<sos_topic2>'\n",
    "promt = promt.split()\n",
    "promt_ids = [vocab[token] for token in promt][:sequence_length]\n",
    "promt_ids = promt_ids + [vocab[\"<pad>\"]] * (sequence_length - len(promt))\n",
    "\n",
    "print(promt_ids)"
   ]
  },
  {
   "cell_type": "code",
   "execution_count": 14,
   "id": "d7ef9d3c-12c1-44b4-94bc-61d781708a21",
   "metadata": {},
   "outputs": [
    {
     "name": "stdout",
     "output_type": "stream",
     "text": [
      "[3, 6, 1, 1, 1, 1]\n",
      "[3, 6, 4, 1, 1, 1]\n",
      "[3, 6, 4, 11, 1, 1]\n",
      "[3, 6, 4, 11, 9, 1]\n",
      "[3, 6, 4, 11, 9, 9]\n"
     ]
    }
   ],
   "source": [
    "for i in range(sequence_length - len(promt)):\n",
    "    promt_tensor = torch.tensor(promt_ids, dtype=torch.long).reshape(1, -1)\n",
    "    outputs = model(promt_tensor)\n",
    "    next_id = torch.argmax(outputs, axis=-1)\n",
    "\n",
    "    promt_ids[len(promt)+i] = next_id.item()\n",
    "    print(promt_ids)"
   ]
  },
  {
   "cell_type": "code",
   "execution_count": 15,
   "id": "77fb70b4-2c7a-429a-bf95-4e467577fa64",
   "metadata": {},
   "outputs": [
    {
     "data": {
      "text/plain": [
       "{'<unk>': 0,\n",
       " 'cây': 5,\n",
       " 'kẻ': 7,\n",
       " 'thì': 11,\n",
       " 'chí': 4,\n",
       " '<pad>': 1,\n",
       " '<sos_topic1>': 2,\n",
       " '<sos_topic2>': 3,\n",
       " 'có': 6,\n",
       " 'nhớ': 8,\n",
       " 'nên': 9,\n",
       " 'quả': 10,\n",
       " 'trồng': 12,\n",
       " 'ăn': 13}"
      ]
     },
     "execution_count": 15,
     "metadata": {},
     "output_type": "execute_result"
    }
   ],
   "source": [
    "{'<unk>': 0,\n",
    " 'cây': 5,\n",
    " 'kẻ': 7,\n",
    " 'thì': 11,\n",
    " 'chí': 4,\n",
    " '<pad>': 1,\n",
    " '<sos_topic1>': 2,\n",
    " '<sos_topic2>': 3,\n",
    " 'có': 6,\n",
    " 'nhớ': 8,\n",
    " 'nên': 9,\n",
    " 'quả': 10,\n",
    " 'trồng': 12,\n",
    " 'ăn': 13}"
   ]
  },
  {
   "cell_type": "code",
   "execution_count": null,
   "id": "214f3947-e3e9-4455-be61-2b9b5f34a2f6",
   "metadata": {},
   "outputs": [],
   "source": []
  }
 ],
 "metadata": {
  "kernelspec": {
   "display_name": "Python 3 (ipykernel)",
   "language": "python",
   "name": "python3"
  },
  "language_info": {
   "codemirror_mode": {
    "name": "ipython",
    "version": 3
   },
   "file_extension": ".py",
   "mimetype": "text/x-python",
   "name": "python",
   "nbconvert_exporter": "python",
   "pygments_lexer": "ipython3",
   "version": "3.9.18"
  }
 },
 "nbformat": 4,
 "nbformat_minor": 5
}
