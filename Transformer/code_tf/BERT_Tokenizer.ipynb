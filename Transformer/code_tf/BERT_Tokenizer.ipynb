{
 "cells": [
  {
   "cell_type": "code",
   "execution_count": null,
   "id": "5a94fe19",
   "metadata": {},
   "outputs": [],
   "source": []
  },
  {
   "cell_type": "code",
   "execution_count": 24,
   "id": "af143844",
   "metadata": {},
   "outputs": [
    {
     "name": "stdout",
     "output_type": "stream",
     "text": [
      "[101, 1045, 2572, 4083, 9932, 102, 2009, 2003, 5875, 102, 0, 0, 0, 0, 0]\n",
      "[0, 0, 0, 0, 0, 0, 1, 1, 1, 1, 0, 0, 0, 0, 0]\n",
      "[1, 1, 1, 1, 1, 1, 1, 1, 1, 1, 0, 0, 0, 0, 0]\n"
     ]
    }
   ],
   "source": [
    "from transformers import BertTokenizer\n",
    "\n",
    "tokenizer = BertTokenizer.from_pretrained('bert-base-uncased')\n",
    "\n",
    "text1 = 'I am learning AI'\n",
    "text2 = 'It is interesting'\n",
    "bert_input = tokenizer(text1, text2, \n",
    "                       padding='max_length', \n",
    "                       max_length=15, \n",
    "                       truncation=True)\n",
    "\n",
    "\n",
    "print(bert_input['input_ids'])      # indices\n",
    "print(bert_input['token_type_ids']) # sequence\n",
    "print(bert_input['attention_mask']) # pad and no-pad"
   ]
  },
  {
   "cell_type": "code",
   "execution_count": 32,
   "id": "dae578f8",
   "metadata": {},
   "outputs": [
    {
     "name": "stdout",
     "output_type": "stream",
     "text": [
      "[101, 4083, 9932, 2003, 5875, 102, 0, 0, 0, 0]\n",
      "[0, 0, 0, 0, 0, 0, 0, 0, 0, 0]\n",
      "[1, 1, 1, 1, 1, 1, 0, 0, 0, 0]\n"
     ]
    }
   ],
   "source": [
    "from transformers import BertTokenizer\n",
    "\n",
    "tokenizer = BertTokenizer.from_pretrained('bert-base-uncased')\n",
    "\n",
    "text = 'Learning AI is interesting'\n",
    "bert_input = tokenizer(text, \n",
    "                       padding='max_length', \n",
    "                       max_length=10, \n",
    "                       truncation=True)\n",
    "\n",
    "print(bert_input['input_ids'])      # indices\n",
    "print(bert_input['token_type_ids']) # sequence\n",
    "print(bert_input['attention_mask']) # pad and no-pad"
   ]
  },
  {
   "cell_type": "code",
   "execution_count": null,
   "id": "ee8d9978",
   "metadata": {},
   "outputs": [],
   "source": []
  },
  {
   "cell_type": "code",
   "execution_count": null,
   "id": "87cbccbf",
   "metadata": {},
   "outputs": [],
   "source": []
  },
  {
   "cell_type": "code",
   "execution_count": null,
   "id": "00a1bc31",
   "metadata": {},
   "outputs": [],
   "source": []
  },
  {
   "cell_type": "code",
   "execution_count": null,
   "id": "d76dbac7",
   "metadata": {},
   "outputs": [],
   "source": []
  },
  {
   "cell_type": "code",
   "execution_count": null,
   "id": "f0a68361",
   "metadata": {},
   "outputs": [],
   "source": [
    "def convert_text_to_feature(review, tokenizer, max_length):  \n",
    "    return tokenizer.encode_plus(review,\n",
    "                                add_special_tokens = True,\n",
    "                                max_length = max_length,\n",
    "                                padding='max_length',\n",
    "                                truncation=True,\n",
    "                                return_attention_mask = True)\n",
    "\n",
    "def map_feature_to_dict(input_ids, attention_masks, token_type_ids, label):\n",
    "    return {\"input_ids\": input_ids,\n",
    "            \"token_type_ids\": token_type_ids,\n",
    "            \"attention_mask\": attention_masks,}, label\n",
    "\n",
    "def encode_text(ds, tokenizer, max_length):\n",
    "    input_ids_list = []\n",
    "    token_type_ids_list = []\n",
    "    attention_mask_list = []\n",
    "    label_list = []\n",
    "        \n",
    "    for review, label in ds:\n",
    "        bert_input = convert_text_to_feature(review[0].numpy().decode(), \n",
    "                                                   tokenizer, max_length)\n",
    "    \n",
    "        input_ids_list.append(bert_input['input_ids'])\n",
    "        token_type_ids_list.append(bert_input['token_type_ids'])\n",
    "        attention_mask_list.append(bert_input['attention_mask'])\n",
    "        label_list.append([label[0].numpy()])\n",
    "\n",
    "    return tf.data.Dataset.from_tensor_slices(\n",
    "                (input_ids_list, \n",
    "                attention_mask_list, \n",
    "                token_type_ids_list, label_list)).map(map_feature_to_dict)\n",
    "                \n",
    "                \n",
    "                "
   ]
  },
  {
   "cell_type": "code",
   "execution_count": null,
   "id": "e805897b",
   "metadata": {},
   "outputs": [],
   "source": []
  }
 ],
 "metadata": {
  "kernelspec": {
   "display_name": "Python 3 (ipykernel)",
   "language": "python",
   "name": "python3"
  },
  "language_info": {
   "codemirror_mode": {
    "name": "ipython",
    "version": 3
   },
   "file_extension": ".py",
   "mimetype": "text/x-python",
   "name": "python",
   "nbconvert_exporter": "python",
   "pygments_lexer": "ipython3",
   "version": "3.9.13"
  }
 },
 "nbformat": 4,
 "nbformat_minor": 5
}
